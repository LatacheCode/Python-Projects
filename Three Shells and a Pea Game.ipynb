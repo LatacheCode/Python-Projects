{
 "cells": [
  {
   "cell_type": "code",
   "execution_count": 1,
   "id": "9a8202f6-ca31-44bc-8b82-b9f902a2cf39",
   "metadata": {},
   "outputs": [],
   "source": [
    "from random import shuffle #Parametro que embaralha os uma lista"
   ]
  },
  {
   "cell_type": "code",
   "execution_count": 3,
   "id": "9e3be46c-debb-4875-91ea-1e47835ed520",
   "metadata": {},
   "outputs": [],
   "source": [
    "myexample = [1,2,3,4,5]   # gerei uma lista\n",
    "result = shuffle(myexample) #tentei atribuir"
   ]
  },
  {
   "cell_type": "code",
   "execution_count": 5,
   "id": "7842a756-26b2-4dba-aede-e5bbdfcb7916",
   "metadata": {},
   "outputs": [],
   "source": [
    "def shuffle_list(mylist): #criar uma função que automaticamente encurte o processo de embaralhar a lista e que eu possa atribuir em outra função\n",
    "    shuffle(mylist)\n",
    "    return(mylist)"
   ]
  },
  {
   "cell_type": "code",
   "execution_count": 8,
   "id": "52b2efdd-4fde-409c-aa19-95916c66e193",
   "metadata": {},
   "outputs": [],
   "source": [
    "result = shuffle_list(myexample) #Aqui foi para mostrar que através da função é possivel chamar o result"
   ]
  },
  {
   "cell_type": "code",
   "execution_count": 9,
   "id": "741308f6-d749-4c99-9e36-677f30d7a276",
   "metadata": {},
   "outputs": [
    {
     "data": {
      "text/plain": [
       "[5, 2, 4, 3, 1]"
      ]
     },
     "execution_count": 9,
     "metadata": {},
     "output_type": "execute_result"
    }
   ],
   "source": [
    "result"
   ]
  },
  {
   "cell_type": "code",
   "execution_count": 10,
   "id": "c4392fca-67db-4677-9c92-2fe320fc5d76",
   "metadata": {},
   "outputs": [],
   "source": [
    "mylist = ['','',\"O\"]       # criei uma lista de 3 objetos onde eu preciso advinhar onde está \"o\" que é como se fosse uma bolinha dentro de três canecas"
   ]
  },
  {
   "cell_type": "code",
   "execution_count": 11,
   "id": "c2008fde-52f3-4232-9784-ff0782595a53",
   "metadata": {},
   "outputs": [
    {
     "data": {
      "text/plain": [
       "['', '', 'O']"
      ]
     },
     "execution_count": 11,
     "metadata": {},
     "output_type": "execute_result"
    }
   ],
   "source": [
    "shuffle_list(mylist) # Aqui é para mostrar que ao acionar esse comando dentro da lista ele embaralha o O"
   ]
  },
  {
   "cell_type": "code",
   "execution_count": 12,
   "id": "bfd55d39-83b1-474f-860e-7daed5843da0",
   "metadata": {},
   "outputs": [],
   "source": [
    "def Player_guess():\n",
    "    guess = \"\"\n",
    "    while guess not in [\"0\",\"1\",\"2\"]: #Essa função indica que quanto o palpite do player não for  0 1 ou 2 o input entra em loop e repete  a pergunta\n",
    "        guess = input(\"pick the number 0,1 or 2\")\n",
    "    return int(guess)        "
   ]
  },
  {
   "cell_type": "code",
   "execution_count": 14,
   "id": "25c0f565-4f5b-4abf-a2ab-d4de81075825",
   "metadata": {},
   "outputs": [],
   "source": [
    "def check_list(mylist,guess):\n",
    "    if mylist[guess] == \"0\": #aqui indica que quando as duas escolhas se conincidirem  será ativado correto\n",
    "        print(\"Correct!\")\n",
    "    else:\n",
    "        print(\"Wrong!\")  #Aqui Qualquer outra adivinhação que n seja Jackpot será acionado incorreto\n",
    "        print(mylist)"
   ]
  },
  {
   "cell_type": "code",
   "execution_count": 19,
   "id": "b10bc2a0-b62e-4de8-9a08-8df985012c19",
   "metadata": {},
   "outputs": [
    {
     "name": "stdin",
     "output_type": "stream",
     "text": [
      "pick the number 0,1 or 2 2\n"
     ]
    },
    {
     "name": "stdout",
     "output_type": "stream",
     "text": [
      "Wrong!\n",
      "['', '0', '']\n"
     ]
    }
   ],
   "source": [
    "# INITIAL LIST\n",
    "mylist = [\"\",\"\",\"0\"]\n",
    "\n",
    "# SHUFFLE LIST\n",
    "mixedup_list = shuffle_list(mylist)              #APÓS INPUTS PRE MODELADOS ESSE SERÁ O JOGO PROPRIAMENTE DITO\n",
    "\n",
    "# USER GUESS\n",
    "guess = Player_guess()\n",
    "# CHECK GUESS\n",
    "check_list(mixedup_list,guess)"
   ]
  },
  {
   "cell_type": "code",
   "execution_count": null,
   "id": "65023d60-594e-4145-9055-65833092e293",
   "metadata": {},
   "outputs": [],
   "source": []
  }
 ],
 "metadata": {
  "kernelspec": {
   "display_name": "Python [conda env:base] *",
   "language": "python",
   "name": "conda-base-py"
  },
  "language_info": {
   "codemirror_mode": {
    "name": "ipython",
    "version": 3
   },
   "file_extension": ".py",
   "mimetype": "text/x-python",
   "name": "python",
   "nbconvert_exporter": "python",
   "pygments_lexer": "ipython3",
   "version": "3.12.7"
  }
 },
 "nbformat": 4,
 "nbformat_minor": 5
}
